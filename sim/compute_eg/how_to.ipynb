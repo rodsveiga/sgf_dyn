{
 "cells": [
  {
   "cell_type": "code",
   "execution_count": 48,
   "metadata": {},
   "outputs": [],
   "source": [
    "import numpy as np\n",
    "np.random.seed(0)"
   ]
  },
  {
   "cell_type": "markdown",
   "metadata": {},
   "source": [
    "### Build Cython code\n",
    "\n",
    "If not done before, build the cython code on the command line."
   ]
  },
  {
   "cell_type": "code",
   "execution_count": 4,
   "metadata": {},
   "outputs": [
    {
     "name": "stdout",
     "output_type": "stream",
     "text": [
      "running build_ext\n"
     ]
    }
   ],
   "source": [
    "! python setup.py build_ext --inplace"
   ]
  },
  {
   "cell_type": "markdown",
   "metadata": {},
   "source": [
    "### Import class"
   ]
  },
  {
   "cell_type": "code",
   "execution_count": 30,
   "metadata": {},
   "outputs": [],
   "source": [
    "from compute_eg import eg"
   ]
  },
  {
   "cell_type": "markdown",
   "metadata": {},
   "source": [
    "### Load trained weights, ground truth and set of random instances"
   ]
  },
  {
   "cell_type": "code",
   "execution_count": 41,
   "metadata": {},
   "outputs": [],
   "source": [
    "with open('../sgd/results/beta_howto.npy', 'rb') as f:\n",
    "         beta_dyn = np.load(f)\n",
    "#####################\n",
    "with open('../sgd/results/data/beta_starhowto.npy', 'rb') as f:\n",
    "         beta_star = np.load(f)\n",
    "#####################\n",
    "with open('../sgd/results/data/plotlist.npy', 'rb') as f:\n",
    "         plotlist = np.load(f)\n",
    "#####################\n",
    "with open('../sgd/results/data/S.npy', 'rb') as f:\n",
    "         S = np.load(f)"
   ]
  },
  {
   "cell_type": "markdown",
   "metadata": {},
   "source": [
    "### Compute test risk\n",
    "\n",
    "This is just a `how to` for a given set of randomly chose `p` coordinates. In the paper we average over 1000 sets."
   ]
  },
  {
   "cell_type": "code",
   "execution_count": 57,
   "metadata": {},
   "outputs": [],
   "source": [
    "ntest = 1e4         #### Number of test samples\n",
    "snr = 1./5.         #### Signal to noise ratio\n",
    "index_array = np.arange(len(plotlist))\n",
    "\n",
    "erSt_ = []\n",
    "for t in index_array:\n",
    "    bt = beta_dyn[t]\n",
    "    error = eg(bt, beta_star, snr, S, ntest)\n",
    "    erSt_.append(error)"
   ]
  },
  {
   "cell_type": "code",
   "execution_count": 58,
   "metadata": {},
   "outputs": [],
   "source": [
    "erSt = np.array(erSt_)"
   ]
  },
  {
   "cell_type": "markdown",
   "metadata": {},
   "source": [
    "### Compute test risk"
   ]
  },
  {
   "cell_type": "markdown",
   "metadata": {},
   "source": [
    "To get the results in the paper, use the script `scr_eg.py` after building the Cython code and selecting `gd` or `sgd` for choosing the trained weights. "
   ]
  },
  {
   "cell_type": "code",
   "execution_count": null,
   "metadata": {},
   "outputs": [],
   "source": [
    "! python scr_eg.py"
   ]
  }
 ],
 "metadata": {
  "kernelspec": {
   "display_name": "Python 3",
   "language": "python",
   "name": "python3"
  },
  "language_info": {
   "codemirror_mode": {
    "name": "ipython",
    "version": 3
   },
   "file_extension": ".py",
   "mimetype": "text/x-python",
   "name": "python",
   "nbconvert_exporter": "python",
   "pygments_lexer": "ipython3",
   "version": "3.12.1"
  }
 },
 "nbformat": 4,
 "nbformat_minor": 4
}
